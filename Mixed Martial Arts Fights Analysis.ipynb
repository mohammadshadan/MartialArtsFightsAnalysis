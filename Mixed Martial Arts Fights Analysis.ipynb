{
 "cells": [
  {
   "cell_type": "markdown",
   "metadata": {},
   "source": [
    "### Table of Content\n",
    " - [About the Data](#about_the_data)\n",
    " - [Objective](#objective)\n",
    " - [Loading the Data](#loading_the_data)\n",
    " - [Data Validation](#data_validation)\n",
    " - [Solution (Merging)](#solution)\n",
    " - [Visualization](#visualization)"
   ]
  },
  {
   "cell_type": "markdown",
   "metadata": {},
   "source": [
    "## About the Data  <a class=\"anchor\" id=\"about_the_data\"></a>"
   ]
  },
  {
   "cell_type": "markdown",
   "metadata": {},
   "source": [
    " - `outcome_interview.csv` contains the matchup data for various mixed martial arts fights - including the two fighters involved, the winner, and the event where it took place - all encoded in IDs.\n",
    " - `event_interview.csv` contains event data for various mixed martial arts events - most importantly the event name. The id corresponds to the event_id in the outcome csv.\n",
    " - `fighter_interview.csv` contains fighter data for various mixed martial arts fighters - their names and their nationalities. The id corresponds to both fighter1_id and fighter2_id in the outcome csv."
   ]
  },
  {
   "cell_type": "markdown",
   "metadata": {},
   "source": [
    "## Objective <a class=\"anchor\" id=\"objective\"></a>"
   ]
  },
  {
   "cell_type": "markdown",
   "metadata": {},
   "source": [
    "Using the above csv’s create a pandas dataframe and corresponding exported csv of all the matchups (reminder: matchups are listed in the outcome csv) with ONLY the following columns:\n",
    "\n",
    "`| fighter1_name | fighter2_name | fighter1_nationality | fighter2_nationality | event_name |`"
   ]
  },
  {
   "cell_type": "code",
   "execution_count": 1,
   "metadata": {},
   "outputs": [],
   "source": [
    "# Load libraries\n",
    "import numpy as np\n",
    "import pandas as pd\n",
    "import matplotlib.pyplot as plt\n",
    "%matplotlib inline\n",
    "import seaborn as sns\n",
    "\n",
    "plt.style.use('fivethirtyeight')"
   ]
  },
  {
   "cell_type": "markdown",
   "metadata": {},
   "source": [
    "## Loading the Data <a class=\"anchor\" id=\"loading_the_data\"></a>"
   ]
  },
  {
   "cell_type": "code",
   "execution_count": 2,
   "metadata": {},
   "outputs": [],
   "source": [
    "# Read the 3 provided csv files\n",
    "outcome = pd.read_csv(\"outcome_interview.csv\")\n",
    "event = pd.read_csv(\"event_interview.csv\")\n",
    "fighter = pd.read_csv(\"fighter_interview.csv\")"
   ]
  },
  {
   "cell_type": "markdown",
   "metadata": {},
   "source": [
    "Now we have three dataframes `outcome`, `event` and `fighter`"
   ]
  },
  {
   "cell_type": "code",
   "execution_count": 3,
   "metadata": {},
   "outputs": [
    {
     "name": "stdout",
     "output_type": "stream",
     "text": [
      "Number of rows and columns in outcome dataframe: (8371, 5)\n"
     ]
    },
    {
     "data": {
      "text/html": [
       "<div>\n",
       "<style scoped>\n",
       "    .dataframe tbody tr th:only-of-type {\n",
       "        vertical-align: middle;\n",
       "    }\n",
       "\n",
       "    .dataframe tbody tr th {\n",
       "        vertical-align: top;\n",
       "    }\n",
       "\n",
       "    .dataframe thead th {\n",
       "        text-align: right;\n",
       "    }\n",
       "</style>\n",
       "<table border=\"1\" class=\"dataframe\">\n",
       "  <thead>\n",
       "    <tr style=\"text-align: right;\">\n",
       "      <th></th>\n",
       "      <th>id</th>\n",
       "      <th>fighter1_id</th>\n",
       "      <th>fighter2_id</th>\n",
       "      <th>winner_id</th>\n",
       "      <th>event_id</th>\n",
       "    </tr>\n",
       "  </thead>\n",
       "  <tbody>\n",
       "    <tr>\n",
       "      <th>0</th>\n",
       "      <td>2264</td>\n",
       "      <td>803</td>\n",
       "      <td>138</td>\n",
       "      <td>138.0</td>\n",
       "      <td>18</td>\n",
       "    </tr>\n",
       "    <tr>\n",
       "      <th>1</th>\n",
       "      <td>2272</td>\n",
       "      <td>3025</td>\n",
       "      <td>466</td>\n",
       "      <td>466.0</td>\n",
       "      <td>494</td>\n",
       "    </tr>\n",
       "    <tr>\n",
       "      <th>2</th>\n",
       "      <td>2280</td>\n",
       "      <td>3005</td>\n",
       "      <td>1671</td>\n",
       "      <td>1671.0</td>\n",
       "      <td>375</td>\n",
       "    </tr>\n",
       "    <tr>\n",
       "      <th>3</th>\n",
       "      <td>2292</td>\n",
       "      <td>2110</td>\n",
       "      <td>284</td>\n",
       "      <td>284.0</td>\n",
       "      <td>352</td>\n",
       "    </tr>\n",
       "    <tr>\n",
       "      <th>4</th>\n",
       "      <td>2310</td>\n",
       "      <td>1346</td>\n",
       "      <td>607</td>\n",
       "      <td>1346.0</td>\n",
       "      <td>826</td>\n",
       "    </tr>\n",
       "  </tbody>\n",
       "</table>\n",
       "</div>"
      ],
      "text/plain": [
       "     id  fighter1_id  fighter2_id  winner_id  event_id\n",
       "0  2264          803          138      138.0        18\n",
       "1  2272         3025          466      466.0       494\n",
       "2  2280         3005         1671     1671.0       375\n",
       "3  2292         2110          284      284.0       352\n",
       "4  2310         1346          607     1346.0       826"
      ]
     },
     "execution_count": 3,
     "metadata": {},
     "output_type": "execute_result"
    }
   ],
   "source": [
    "print(\"Number of rows and columns in outcome dataframe:\", outcome.shape)\n",
    "outcome.head()"
   ]
  },
  {
   "cell_type": "code",
   "execution_count": 4,
   "metadata": {},
   "outputs": [
    {
     "name": "stdout",
     "output_type": "stream",
     "text": [
      "Number of rows and columns in event dataframe: (1612, 8)\n"
     ]
    },
    {
     "data": {
      "text/html": [
       "<div>\n",
       "<style scoped>\n",
       "    .dataframe tbody tr th:only-of-type {\n",
       "        vertical-align: middle;\n",
       "    }\n",
       "\n",
       "    .dataframe tbody tr th {\n",
       "        vertical-align: top;\n",
       "    }\n",
       "\n",
       "    .dataframe thead th {\n",
       "        text-align: right;\n",
       "    }\n",
       "</style>\n",
       "<table border=\"1\" class=\"dataframe\">\n",
       "  <thead>\n",
       "    <tr style=\"text-align: right;\">\n",
       "      <th></th>\n",
       "      <th>id</th>\n",
       "      <th>name</th>\n",
       "      <th>date</th>\n",
       "      <th>promoter</th>\n",
       "      <th>location</th>\n",
       "      <th>attendance</th>\n",
       "      <th>created_at</th>\n",
       "      <th>modified_at</th>\n",
       "    </tr>\n",
       "  </thead>\n",
       "  <tbody>\n",
       "    <tr>\n",
       "      <th>0</th>\n",
       "      <td>1</td>\n",
       "      <td>One FC 10: Champions and Warriors</td>\n",
       "      <td>2013-09-13</td>\n",
       "      <td>OneFC</td>\n",
       "      <td>NaN</td>\n",
       "      <td>NaN</td>\n",
       "      <td>2019-04-01T19:56:24.477518</td>\n",
       "      <td>2019-04-01T19:56:24.477518</td>\n",
       "    </tr>\n",
       "    <tr>\n",
       "      <th>1</th>\n",
       "      <td>2</td>\n",
       "      <td>Legacy FC 45: Todhunter vs. Smith</td>\n",
       "      <td>2015-09-11</td>\n",
       "      <td>Legacy Fc</td>\n",
       "      <td>NaN</td>\n",
       "      <td>NaN</td>\n",
       "      <td>2019-04-01T19:56:28.403410</td>\n",
       "      <td>2019-04-01T19:56:28.403410</td>\n",
       "    </tr>\n",
       "    <tr>\n",
       "      <th>2</th>\n",
       "      <td>3</td>\n",
       "      <td>LFA 27: Watley vs. Wilson</td>\n",
       "      <td>2017-11-10</td>\n",
       "      <td>LFA</td>\n",
       "      <td>NaN</td>\n",
       "      <td>NaN</td>\n",
       "      <td>2019-04-01T19:56:32.488043</td>\n",
       "      <td>2019-04-01T19:56:32.488043</td>\n",
       "    </tr>\n",
       "    <tr>\n",
       "      <th>3</th>\n",
       "      <td>4</td>\n",
       "      <td>ONE FC 21: Roar of Tigers</td>\n",
       "      <td>2014-10-17</td>\n",
       "      <td>OneFC</td>\n",
       "      <td>NaN</td>\n",
       "      <td>NaN</td>\n",
       "      <td>2019-04-01T19:56:39.395144</td>\n",
       "      <td>2019-04-01T19:56:39.395144</td>\n",
       "    </tr>\n",
       "    <tr>\n",
       "      <th>4</th>\n",
       "      <td>5</td>\n",
       "      <td>One FC 8: Kings and Champions</td>\n",
       "      <td>2013-04-05</td>\n",
       "      <td>OneFC</td>\n",
       "      <td>NaN</td>\n",
       "      <td>NaN</td>\n",
       "      <td>2019-04-01T19:56:39.404131</td>\n",
       "      <td>2019-04-01T19:56:39.404131</td>\n",
       "    </tr>\n",
       "  </tbody>\n",
       "</table>\n",
       "</div>"
      ],
      "text/plain": [
       "   id                               name        date   promoter location  \\\n",
       "0   1  One FC 10: Champions and Warriors  2013-09-13      OneFC      NaN   \n",
       "1   2  Legacy FC 45: Todhunter vs. Smith  2015-09-11  Legacy Fc      NaN   \n",
       "2   3          LFA 27: Watley vs. Wilson  2017-11-10        LFA      NaN   \n",
       "3   4          ONE FC 21: Roar of Tigers  2014-10-17      OneFC      NaN   \n",
       "4   5      One FC 8: Kings and Champions  2013-04-05      OneFC      NaN   \n",
       "\n",
       "   attendance                  created_at                 modified_at  \n",
       "0         NaN  2019-04-01T19:56:24.477518  2019-04-01T19:56:24.477518  \n",
       "1         NaN  2019-04-01T19:56:28.403410  2019-04-01T19:56:28.403410  \n",
       "2         NaN  2019-04-01T19:56:32.488043  2019-04-01T19:56:32.488043  \n",
       "3         NaN  2019-04-01T19:56:39.395144  2019-04-01T19:56:39.395144  \n",
       "4         NaN  2019-04-01T19:56:39.404131  2019-04-01T19:56:39.404131  "
      ]
     },
     "execution_count": 4,
     "metadata": {},
     "output_type": "execute_result"
    }
   ],
   "source": [
    "print(\"Number of rows and columns in event dataframe:\", event.shape)\n",
    "event.head()"
   ]
  },
  {
   "cell_type": "code",
   "execution_count": 5,
   "metadata": {},
   "outputs": [
    {
     "name": "stdout",
     "output_type": "stream",
     "text": [
      "Number of rows and columns in fighter dataframe: (5529, 3)\n"
     ]
    },
    {
     "data": {
      "text/html": [
       "<div>\n",
       "<style scoped>\n",
       "    .dataframe tbody tr th:only-of-type {\n",
       "        vertical-align: middle;\n",
       "    }\n",
       "\n",
       "    .dataframe tbody tr th {\n",
       "        vertical-align: top;\n",
       "    }\n",
       "\n",
       "    .dataframe thead th {\n",
       "        text-align: right;\n",
       "    }\n",
       "</style>\n",
       "<table border=\"1\" class=\"dataframe\">\n",
       "  <thead>\n",
       "    <tr style=\"text-align: right;\">\n",
       "      <th></th>\n",
       "      <th>id</th>\n",
       "      <th>name</th>\n",
       "      <th>nationality</th>\n",
       "    </tr>\n",
       "  </thead>\n",
       "  <tbody>\n",
       "    <tr>\n",
       "      <th>0</th>\n",
       "      <td>111</td>\n",
       "      <td>Bertrand Amoussou</td>\n",
       "      <td>France</td>\n",
       "    </tr>\n",
       "    <tr>\n",
       "      <th>1</th>\n",
       "      <td>3227</td>\n",
       "      <td>Dave Zitanick</td>\n",
       "      <td>United States</td>\n",
       "    </tr>\n",
       "    <tr>\n",
       "      <th>2</th>\n",
       "      <td>2002</td>\n",
       "      <td>Jim Mullen</td>\n",
       "      <td>United States</td>\n",
       "    </tr>\n",
       "    <tr>\n",
       "      <th>3</th>\n",
       "      <td>2033</td>\n",
       "      <td>Mario Neto</td>\n",
       "      <td>Brazil</td>\n",
       "    </tr>\n",
       "    <tr>\n",
       "      <th>4</th>\n",
       "      <td>1667</td>\n",
       "      <td>Aaron Lanfranco</td>\n",
       "      <td>United States</td>\n",
       "    </tr>\n",
       "  </tbody>\n",
       "</table>\n",
       "</div>"
      ],
      "text/plain": [
       "     id               name    nationality\n",
       "0   111  Bertrand Amoussou         France\n",
       "1  3227      Dave Zitanick  United States\n",
       "2  2002         Jim Mullen  United States\n",
       "3  2033         Mario Neto         Brazil\n",
       "4  1667    Aaron Lanfranco  United States"
      ]
     },
     "execution_count": 5,
     "metadata": {},
     "output_type": "execute_result"
    }
   ],
   "source": [
    "print(\"Number of rows and columns in fighter dataframe:\", fighter.shape)\n",
    "fighter.head()"
   ]
  },
  {
   "cell_type": "markdown",
   "metadata": {},
   "source": [
    "## Data Validation <a class=\"anchor\" id=\"data_validation\"></a>"
   ]
  },
  {
   "cell_type": "markdown",
   "metadata": {},
   "source": [
    "All `event_id` in `outcome` data should be present in `id` of `event` data"
   ]
  },
  {
   "cell_type": "code",
   "execution_count": 6,
   "metadata": {},
   "outputs": [
    {
     "data": {
      "text/plain": [
       "True    8371\n",
       "Name: event_id, dtype: int64"
      ]
     },
     "execution_count": 6,
     "metadata": {},
     "output_type": "execute_result"
    }
   ],
   "source": [
    "outcome[\"event_id\"].isin(event[\"id\"]).value_counts()"
   ]
  },
  {
   "cell_type": "markdown",
   "metadata": {},
   "source": [
    "All `fighter1_id` in `outcome` data should be present in `id`of `fighter` data"
   ]
  },
  {
   "cell_type": "code",
   "execution_count": 7,
   "metadata": {},
   "outputs": [
    {
     "data": {
      "text/plain": [
       "True    8371\n",
       "Name: fighter1_id, dtype: int64"
      ]
     },
     "execution_count": 7,
     "metadata": {},
     "output_type": "execute_result"
    }
   ],
   "source": [
    "outcome[\"fighter1_id\"].isin(fighter[\"id\"]).value_counts()"
   ]
  },
  {
   "cell_type": "markdown",
   "metadata": {},
   "source": [
    "All `fighter2`_id in `outcome` data should be present in `id`of `fighter` data"
   ]
  },
  {
   "cell_type": "code",
   "execution_count": 8,
   "metadata": {},
   "outputs": [
    {
     "data": {
      "text/plain": [
       "True    8371\n",
       "Name: fighter2_id, dtype: int64"
      ]
     },
     "execution_count": 8,
     "metadata": {},
     "output_type": "execute_result"
    }
   ],
   "source": [
    "outcome[\"fighter2_id\"].isin(fighter[\"id\"]).value_counts()"
   ]
  },
  {
   "cell_type": "markdown",
   "metadata": {},
   "source": [
    "## Solution (Merging) <a class=\"anchor\" id=\"solution\"></a>"
   ]
  },
  {
   "cell_type": "markdown",
   "metadata": {},
   "source": [
    "Step 1 : Merge outcome datarame to event dataframe to add event name and ceate a new merged dataframe called `df_merge`\n",
    "\n",
    "**Please note**, I have taken left join to preserve the sequence of row as it appears in `outcome` dataset. If I take inner join the sequence of rows will not be preserved and will have to add additional step in the end to make the rows in same sequence as in outcome dataframe"
   ]
  },
  {
   "cell_type": "code",
   "execution_count": 9,
   "metadata": {},
   "outputs": [],
   "source": [
    "# Adding event name to outcome dataframe\n",
    "df_merge = pd.merge(outcome, event[[\"id\", \"name\"]], \n",
    "                    how=\"left\", \n",
    "                    left_on=\"event_id\", \n",
    "                    right_on=\"id\")                                   \n",
    "# df_merge.head()"
   ]
  },
  {
   "cell_type": "markdown",
   "metadata": {},
   "source": [
    "Step 2 : Rename the column named \"name\" to \"event_name\""
   ]
  },
  {
   "cell_type": "code",
   "execution_count": 10,
   "metadata": {},
   "outputs": [],
   "source": [
    "df_merge = df_merge.rename(columns={\"name\":\"event_name\"}) "
   ]
  },
  {
   "cell_type": "markdown",
   "metadata": {},
   "source": [
    "Step 3 : Merge df_merge dataframe and fighter dataframe on `fighter1_id` to fetch the fighter name and nationality for fighter 1"
   ]
  },
  {
   "cell_type": "code",
   "execution_count": 11,
   "metadata": {},
   "outputs": [],
   "source": [
    "df_merge = pd.merge(df_merge, fighter, how=\"left\", left_on=\"fighter1_id\", right_on=\"id\")\n",
    "# df_merge.head()"
   ]
  },
  {
   "cell_type": "markdown",
   "metadata": {},
   "source": [
    "Step 4 : Rename the columns for Fighter 1"
   ]
  },
  {
   "cell_type": "code",
   "execution_count": 12,
   "metadata": {},
   "outputs": [],
   "source": [
    "df_merge = df_merge.rename(columns = {\"name\":\"fighter1_name\", \"nationality\":\"fighter1_nationality\"})"
   ]
  },
  {
   "cell_type": "markdown",
   "metadata": {},
   "source": [
    "Step 5 : Merge df_merge dataframe and fighter dataframe on `fighter2_id` to fetch the fighter name and nationality for fighter 2"
   ]
  },
  {
   "cell_type": "code",
   "execution_count": 13,
   "metadata": {},
   "outputs": [],
   "source": [
    "df_merge = pd.merge(df_merge, fighter, how=\"left\", left_on=\"fighter2_id\", right_on=\"id\")"
   ]
  },
  {
   "cell_type": "markdown",
   "metadata": {},
   "source": [
    "Step 6 : rename the columns for Fighter 2"
   ]
  },
  {
   "cell_type": "code",
   "execution_count": 14,
   "metadata": {},
   "outputs": [],
   "source": [
    "df_merge = df_merge.rename(columns = {\"name\":\"fighter2_name\", \"nationality\":\"fighter2_nationality\"})\n",
    "# df_merge.head()"
   ]
  },
  {
   "cell_type": "markdown",
   "metadata": {},
   "source": [
    "Step 7 : Select the required columns as advised in objective\n",
    "\n",
    "`| fighter1_name | fighter2_name | fighter1_nationality | fighter2_nationality | event_name |`"
   ]
  },
  {
   "cell_type": "code",
   "execution_count": 15,
   "metadata": {},
   "outputs": [],
   "source": [
    "required_columns = [\"fighter1_name\",\"fighter2_name\",\"fighter1_nationality\",\"fighter2_nationality\",\"event_name\"]\n",
    "output_df = df_merge[required_columns]"
   ]
  },
  {
   "cell_type": "code",
   "execution_count": 16,
   "metadata": {},
   "outputs": [
    {
     "data": {
      "text/html": [
       "<div>\n",
       "<style scoped>\n",
       "    .dataframe tbody tr th:only-of-type {\n",
       "        vertical-align: middle;\n",
       "    }\n",
       "\n",
       "    .dataframe tbody tr th {\n",
       "        vertical-align: top;\n",
       "    }\n",
       "\n",
       "    .dataframe thead th {\n",
       "        text-align: right;\n",
       "    }\n",
       "</style>\n",
       "<table border=\"1\" class=\"dataframe\">\n",
       "  <thead>\n",
       "    <tr style=\"text-align: right;\">\n",
       "      <th></th>\n",
       "      <th>fighter1_name</th>\n",
       "      <th>fighter2_name</th>\n",
       "      <th>fighter1_nationality</th>\n",
       "      <th>fighter2_nationality</th>\n",
       "      <th>event_name</th>\n",
       "    </tr>\n",
       "  </thead>\n",
       "  <tbody>\n",
       "    <tr>\n",
       "      <th>0</th>\n",
       "      <td>Mike Easton</td>\n",
       "      <td>Raphael Assuncao</td>\n",
       "      <td>United States</td>\n",
       "      <td>Brazil</td>\n",
       "      <td>UFC on FOX 5: Henderson vs. Diaz</td>\n",
       "    </tr>\n",
       "    <tr>\n",
       "      <th>1</th>\n",
       "      <td>Bobby Voelker</td>\n",
       "      <td>Patrick Cote</td>\n",
       "      <td>United States</td>\n",
       "      <td>Canada</td>\n",
       "      <td>UFC 158: St-Pierre vs. Diaz</td>\n",
       "    </tr>\n",
       "    <tr>\n",
       "      <th>2</th>\n",
       "      <td>Jamie Varner</td>\n",
       "      <td>Joe Lauzon</td>\n",
       "      <td>United States</td>\n",
       "      <td>United States</td>\n",
       "      <td>UFC on FOX 4: Shogun vs. Vera</td>\n",
       "    </tr>\n",
       "    <tr>\n",
       "      <th>3</th>\n",
       "      <td>Andy Ogle</td>\n",
       "      <td>Maximo Blanco</td>\n",
       "      <td>England</td>\n",
       "      <td>Venezuela</td>\n",
       "      <td>UFC Fight Night 41: Munoz vs. Mousasi</td>\n",
       "    </tr>\n",
       "    <tr>\n",
       "      <th>4</th>\n",
       "      <td>Anthony Johnson</td>\n",
       "      <td>Phil Davis</td>\n",
       "      <td>United States</td>\n",
       "      <td>United States</td>\n",
       "      <td>UFC 172: Jones vs. Teixeira</td>\n",
       "    </tr>\n",
       "  </tbody>\n",
       "</table>\n",
       "</div>"
      ],
      "text/plain": [
       "     fighter1_name     fighter2_name fighter1_nationality  \\\n",
       "0      Mike Easton  Raphael Assuncao        United States   \n",
       "1    Bobby Voelker      Patrick Cote        United States   \n",
       "2     Jamie Varner        Joe Lauzon        United States   \n",
       "3        Andy Ogle     Maximo Blanco              England   \n",
       "4  Anthony Johnson        Phil Davis        United States   \n",
       "\n",
       "  fighter2_nationality                             event_name  \n",
       "0               Brazil       UFC on FOX 5: Henderson vs. Diaz  \n",
       "1               Canada            UFC 158: St-Pierre vs. Diaz  \n",
       "2        United States          UFC on FOX 4: Shogun vs. Vera  \n",
       "3            Venezuela  UFC Fight Night 41: Munoz vs. Mousasi  \n",
       "4        United States            UFC 172: Jones vs. Teixeira  "
      ]
     },
     "execution_count": 16,
     "metadata": {},
     "output_type": "execute_result"
    }
   ],
   "source": [
    "output_df.head()"
   ]
  },
  {
   "cell_type": "markdown",
   "metadata": {},
   "source": [
    "Step 8 : Write the output to a csv file"
   ]
  },
  {
   "cell_type": "code",
   "execution_count": 17,
   "metadata": {},
   "outputs": [],
   "source": [
    "output_df.to_csv(\"output_file.csv\",index=False)"
   ]
  },
  {
   "cell_type": "markdown",
   "metadata": {},
   "source": [
    "## Visualization <a class=\"anchor\" id=\"visualization\"></a>"
   ]
  },
  {
   "cell_type": "markdown",
   "metadata": {},
   "source": [
    "Distribution of fighters from various nationalities"
   ]
  },
  {
   "cell_type": "code",
   "execution_count": 18,
   "metadata": {},
   "outputs": [
    {
     "data": {
      "text/html": [
       "<div>\n",
       "<style scoped>\n",
       "    .dataframe tbody tr th:only-of-type {\n",
       "        vertical-align: middle;\n",
       "    }\n",
       "\n",
       "    .dataframe tbody tr th {\n",
       "        vertical-align: top;\n",
       "    }\n",
       "\n",
       "    .dataframe thead th {\n",
       "        text-align: right;\n",
       "    }\n",
       "</style>\n",
       "<table border=\"1\" class=\"dataframe\">\n",
       "  <thead>\n",
       "    <tr style=\"text-align: right;\">\n",
       "      <th></th>\n",
       "      <th>nationality</th>\n",
       "      <th>n</th>\n",
       "    </tr>\n",
       "  </thead>\n",
       "  <tbody>\n",
       "    <tr>\n",
       "      <th>0</th>\n",
       "      <td>United States</td>\n",
       "      <td>2630</td>\n",
       "    </tr>\n",
       "    <tr>\n",
       "      <th>1</th>\n",
       "      <td>Brazil</td>\n",
       "      <td>509</td>\n",
       "    </tr>\n",
       "    <tr>\n",
       "      <th>2</th>\n",
       "      <td>Japan</td>\n",
       "      <td>245</td>\n",
       "    </tr>\n",
       "    <tr>\n",
       "      <th>3</th>\n",
       "      <td>England</td>\n",
       "      <td>198</td>\n",
       "    </tr>\n",
       "    <tr>\n",
       "      <th>4</th>\n",
       "      <td>Russia</td>\n",
       "      <td>172</td>\n",
       "    </tr>\n",
       "    <tr>\n",
       "      <th>5</th>\n",
       "      <td>Canada</td>\n",
       "      <td>147</td>\n",
       "    </tr>\n",
       "    <tr>\n",
       "      <th>6</th>\n",
       "      <td>Poland</td>\n",
       "      <td>105</td>\n",
       "    </tr>\n",
       "    <tr>\n",
       "      <th>7</th>\n",
       "      <td>France</td>\n",
       "      <td>75</td>\n",
       "    </tr>\n",
       "    <tr>\n",
       "      <th>8</th>\n",
       "      <td>Australia</td>\n",
       "      <td>71</td>\n",
       "    </tr>\n",
       "    <tr>\n",
       "      <th>9</th>\n",
       "      <td>Sweden</td>\n",
       "      <td>60</td>\n",
       "    </tr>\n",
       "    <tr>\n",
       "      <th>10</th>\n",
       "      <td>USA</td>\n",
       "      <td>59</td>\n",
       "    </tr>\n",
       "    <tr>\n",
       "      <th>11</th>\n",
       "      <td>South Korea</td>\n",
       "      <td>48</td>\n",
       "    </tr>\n",
       "    <tr>\n",
       "      <th>12</th>\n",
       "      <td>Mexico</td>\n",
       "      <td>41</td>\n",
       "    </tr>\n",
       "    <tr>\n",
       "      <th>13</th>\n",
       "      <td>Finland</td>\n",
       "      <td>40</td>\n",
       "    </tr>\n",
       "    <tr>\n",
       "      <th>14</th>\n",
       "      <td>Ireland</td>\n",
       "      <td>32</td>\n",
       "    </tr>\n",
       "  </tbody>\n",
       "</table>\n",
       "</div>"
      ],
      "text/plain": [
       "      nationality     n\n",
       "0   United States  2630\n",
       "1          Brazil   509\n",
       "2           Japan   245\n",
       "3         England   198\n",
       "4          Russia   172\n",
       "5          Canada   147\n",
       "6          Poland   105\n",
       "7          France    75\n",
       "8       Australia    71\n",
       "9          Sweden    60\n",
       "10            USA    59\n",
       "11    South Korea    48\n",
       "12         Mexico    41\n",
       "13        Finland    40\n",
       "14        Ireland    32"
      ]
     },
     "execution_count": 18,
     "metadata": {},
     "output_type": "execute_result"
    }
   ],
   "source": [
    "fighter_country_count = fighter.nationality.value_counts().head(15).reset_index()\n",
    "fighter_country_count = fighter_country_count.rename(columns={\"index\":\"nationality\", \"nationality\":\"n\"})\n",
    "fighter_country_count"
   ]
  },
  {
   "cell_type": "code",
   "execution_count": 19,
   "metadata": {},
   "outputs": [
    {
     "data": {
      "text/plain": [
       "Text(0, 0.5, 'Nationality')"
      ]
     },
     "execution_count": 19,
     "metadata": {},
     "output_type": "execute_result"
    },
    {
     "data": {
      "image/png": "[encoded data removed]",
      "text/plain": [
       "<Figure size 1080x576 with 1 Axes>"
      ]
     },
     "metadata": {
      "needs_background": "light"
     },
     "output_type": "display_data"
    }
   ],
   "source": [
    "plt.figure(figsize=(15,8))\n",
    "ax=sns.barplot(y=\"nationality\", x=\"n\", data=fighter_country_count);\n",
    "ax.set_title(\"Count of Fighters from different Nationalities (Top 10)\")\n",
    "ax.set_xlabel(\"Count of Fighters\")\n",
    "ax.set_ylabel(\"Nationality\")"
   ]
  },
  {
   "cell_type": "markdown",
   "metadata": {},
   "source": [
    "As we can see from the plot, maximum number of fighters are from United States followed by Brazil and Japan"
   ]
  }
 ],
 "metadata": {
  "kernelspec": {
   "display_name": "Python 3",
   "language": "python",
   "name": "python3"
  },
  "language_info": {
   "codemirror_mode": {
    "name": "ipython",
    "version": 3
   },
   "file_extension": ".py",
   "mimetype": "text/x-python",
   "name": "python",
   "nbconvert_exporter": "python",
   "pygments_lexer": "ipython3",
   "version": "3.7.0"
  }
 },
 "nbformat": 4,
 "nbformat_minor": 2
}
